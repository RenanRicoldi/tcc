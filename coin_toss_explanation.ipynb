{
  "nbformat": 4,
  "nbformat_minor": 0,
  "metadata": {
    "colab": {
      "name": "LDP.ipynb",
      "provenance": [],
      "authorship_tag": "ABX9TyMJW2tRfVEVMRX3d0W7HdZh",
      "include_colab_link": true
    },
    "kernelspec": {
      "name": "python3",
      "display_name": "Python 3"
    },
    "language_info": {
      "name": "python"
    }
  },
  "cells": [
    {
      "cell_type": "markdown",
      "metadata": {
        "id": "view-in-github",
        "colab_type": "text"
      },
      "source": [
        "<a href=\"https://colab.research.google.com/github/RenanRicoldi/tcc/blob/main/coin_toss_explanation.ipynb\" target=\"_parent\"><img src=\"https://colab.research.google.com/assets/colab-badge.svg\" alt=\"Open In Colab\"/></a>"
      ]
    },
    {
      "cell_type": "code",
      "metadata": {
        "id": "rTRalibH3Knj"
      },
      "source": [
        "import torch"
      ],
      "execution_count": 1,
      "outputs": []
    },
    {
      "cell_type": "markdown",
      "metadata": {
        "id": "zRC7rhPI6Fkn"
      },
      "source": [
        "***answers*** contém as respostas verdadeiras de cada uma das 100 perguntas."
      ]
    },
    {
      "cell_type": "code",
      "metadata": {
        "colab": {
          "base_uri": "https://localhost:8080/"
        },
        "id": "UyzXYviv3Y3Z",
        "outputId": "14f172f8-6991-4f65-dc2a-2baf718c1766"
      },
      "source": [
        "answers = torch.randint(0, 2, (100, ))\n",
        "answers"
      ],
      "execution_count": 4,
      "outputs": [
        {
          "output_type": "execute_result",
          "data": {
            "text/plain": [
              "tensor([0, 0, 0, 1, 1, 0, 1, 1, 0, 0, 1, 1, 1, 1, 1, 1, 1, 0, 0, 1, 1, 1, 0, 1,\n",
              "        1, 0, 0, 0, 0, 1, 1, 0, 1, 1, 1, 1, 0, 1, 1, 0, 0, 0, 1, 1, 1, 1, 0, 1,\n",
              "        1, 0, 0, 1, 0, 0, 0, 1, 1, 1, 1, 0, 0, 0, 1, 0, 1, 0, 1, 0, 1, 0, 0, 1,\n",
              "        0, 0, 1, 0, 0, 1, 0, 1, 0, 0, 1, 1, 1, 1, 1, 1, 1, 0, 1, 1, 0, 0, 0, 0,\n",
              "        0, 0, 0, 0])"
            ]
          },
          "metadata": {
            "tags": []
          },
          "execution_count": 4
        }
      ]
    },
    {
      "cell_type": "markdown",
      "metadata": {
        "id": "FDEsD2XX6Xpb"
      },
      "source": [
        "***first_coin_flip*** mostra o resultado da primeira jogada de moeda para cada uma das 100 respostas, sendo **1 cara** e **0 coroa**.\n",
        "E ***second_coin_flip*** para mostra o resultado da segunda jogada de moeda."
      ]
    },
    {
      "cell_type": "code",
      "metadata": {
        "id": "1DY5NyEX3zC6"
      },
      "source": [
        "first_coin_flip = (torch.rand(len(answers)) > 0.5).float()\n",
        "second_coin_flip = (torch.rand(len(answers)) > 0.5).float()"
      ],
      "execution_count": 5,
      "outputs": []
    },
    {
      "cell_type": "code",
      "metadata": {
        "colab": {
          "base_uri": "https://localhost:8080/"
        },
        "id": "rKW4Cqdh7Ddg",
        "outputId": "2e76d22c-6cc7-4124-8302-1d26391eae26"
      },
      "source": [
        "first_coin_flip"
      ],
      "execution_count": 6,
      "outputs": [
        {
          "output_type": "execute_result",
          "data": {
            "text/plain": [
              "tensor([1., 1., 1., 0., 0., 1., 0., 0., 1., 0., 1., 0., 1., 1., 1., 1., 1., 1.,\n",
              "        1., 0., 1., 0., 0., 1., 0., 1., 0., 0., 0., 0., 0., 1., 0., 1., 1., 0.,\n",
              "        1., 1., 1., 1., 0., 0., 1., 0., 1., 0., 1., 1., 1., 0., 1., 0., 0., 0.,\n",
              "        0., 1., 0., 0., 1., 0., 0., 1., 0., 0., 1., 1., 1., 0., 1., 1., 1., 0.,\n",
              "        1., 0., 1., 0., 1., 0., 1., 1., 0., 0., 0., 1., 1., 0., 1., 1., 1., 1.,\n",
              "        0., 1., 1., 0., 0., 0., 1., 1., 0., 0.])"
            ]
          },
          "metadata": {
            "tags": []
          },
          "execution_count": 6
        }
      ]
    },
    {
      "cell_type": "code",
      "metadata": {
        "colab": {
          "base_uri": "https://localhost:8080/"
        },
        "id": "PMlCBI_E7Frr",
        "outputId": "32390d6d-dd23-432c-d5cd-045c35051072"
      },
      "source": [
        "second_coin_flip"
      ],
      "execution_count": 7,
      "outputs": [
        {
          "output_type": "execute_result",
          "data": {
            "text/plain": [
              "tensor([1., 0., 1., 1., 0., 1., 0., 1., 1., 0., 0., 0., 1., 0., 1., 1., 1., 1.,\n",
              "        1., 0., 1., 1., 0., 0., 1., 0., 1., 1., 0., 0., 1., 1., 0., 1., 0., 0.,\n",
              "        1., 1., 1., 1., 1., 1., 0., 1., 0., 0., 0., 1., 0., 1., 0., 0., 0., 1.,\n",
              "        1., 0., 1., 0., 0., 0., 0., 0., 1., 0., 0., 0., 1., 0., 1., 1., 1., 1.,\n",
              "        0., 0., 0., 0., 0., 1., 1., 0., 1., 1., 0., 0., 0., 0., 0., 1., 1., 1.,\n",
              "        1., 0., 1., 1., 0., 0., 1., 0., 1., 0.])"
            ]
          },
          "metadata": {
            "tags": []
          },
          "execution_count": 7
        }
      ]
    },
    {
      "cell_type": "markdown",
      "metadata": {
        "id": "jWwJf1BY7WtA"
      },
      "source": [
        "Multiplicando ***answers*** por ***first_coin_flip*** conseguimos garatir que sempre que o resultado do primeiro lançamento de moeda for cara teremos o resposta verdadeira para a pergunta, e sempre que for coroa, teremos o resultado 0, que pode ser o verdadeiro ou o falso."
      ]
    },
    {
      "cell_type": "code",
      "metadata": {
        "colab": {
          "base_uri": "https://localhost:8080/"
        },
        "id": "OBfzSNDh7rnv",
        "outputId": "15d1b2a4-e268-4de9-b190-3549dabe3903"
      },
      "source": [
        "answers.float() * first_coin_flip"
      ],
      "execution_count": 8,
      "outputs": [
        {
          "output_type": "execute_result",
          "data": {
            "text/plain": [
              "tensor([0., 0., 0., 0., 0., 0., 0., 0., 0., 0., 1., 0., 1., 1., 1., 1., 1., 0.,\n",
              "        0., 0., 1., 0., 0., 1., 0., 0., 0., 0., 0., 0., 0., 0., 0., 1., 1., 0.,\n",
              "        0., 1., 1., 0., 0., 0., 1., 0., 1., 0., 0., 1., 1., 0., 0., 0., 0., 0.,\n",
              "        0., 1., 0., 0., 1., 0., 0., 0., 0., 0., 1., 0., 1., 0., 1., 0., 0., 0.,\n",
              "        0., 0., 1., 0., 0., 0., 0., 1., 0., 0., 0., 1., 1., 0., 1., 1., 1., 0.,\n",
              "        0., 1., 0., 0., 0., 0., 0., 0., 0., 0.])"
            ]
          },
          "metadata": {
            "tags": []
          },
          "execution_count": 8
        }
      ]
    },
    {
      "cell_type": "markdown",
      "metadata": {
        "id": "9SOmnt_l8Np2"
      },
      "source": [
        "Só iremos depender do segundo lançamento da moeda quando no primeiro lançamento obtermos coroa. Para isso, basta invertermos o primeiro lançamento e multiplicá-lo pelo segundo. Assim o que antes era 0 vira 1 em ***first_coin_flip***, e assim só vamos obter o resultado do segundo lançamento onde agora é 1."
      ]
    },
    {
      "cell_type": "code",
      "metadata": {
        "colab": {
          "base_uri": "https://localhost:8080/"
        },
        "id": "JN1OPJgA8KaG",
        "outputId": "9a184bf4-8ccc-4a9b-d890-31fd847b4de9"
      },
      "source": [
        "(1 - first_coin_flip) * second_coin_flip"
      ],
      "execution_count": 9,
      "outputs": [
        {
          "output_type": "execute_result",
          "data": {
            "text/plain": [
              "tensor([0., 0., 0., 1., 0., 0., 0., 1., 0., 0., 0., 0., 0., 0., 0., 0., 0., 0.,\n",
              "        0., 0., 0., 1., 0., 0., 1., 0., 1., 1., 0., 0., 1., 0., 0., 0., 0., 0.,\n",
              "        0., 0., 0., 0., 1., 1., 0., 1., 0., 0., 0., 0., 0., 1., 0., 0., 0., 1.,\n",
              "        1., 0., 1., 0., 0., 0., 0., 0., 1., 0., 0., 0., 0., 0., 0., 0., 0., 1.,\n",
              "        0., 0., 0., 0., 0., 1., 0., 0., 1., 1., 0., 0., 0., 0., 0., 0., 0., 0.,\n",
              "        1., 0., 0., 1., 0., 0., 0., 0., 1., 0.])"
            ]
          },
          "metadata": {
            "tags": []
          },
          "execution_count": 9
        }
      ]
    },
    {
      "cell_type": "markdown",
      "metadata": {
        "id": "KE_ArjR98vg4"
      },
      "source": [
        "Somando cada item do tensor onde temos as respostas verdadeiras (que o primeiro lançamento resultou em cara), com cada item do tensor onde temos as respostas falsas (que o primeiro lançamento resultou em coroa), obtemos as respostas tanto verdadeiras quanto as falsas."
      ]
    },
    {
      "cell_type": "code",
      "metadata": {
        "colab": {
          "base_uri": "https://localhost:8080/"
        },
        "id": "b2YF9iz9803C",
        "outputId": "7cb0bcba-518f-405c-c81c-95d1865c8a6d"
      },
      "source": [
        "private_answers = answers.float() * first_coin_flip + (1 - first_coin_flip) * second_coin_flip\n",
        "private_answers"
      ],
      "execution_count": 11,
      "outputs": [
        {
          "output_type": "execute_result",
          "data": {
            "text/plain": [
              "tensor([0., 0., 0., 1., 0., 0., 0., 1., 0., 0., 1., 0., 1., 1., 1., 1., 1., 0.,\n",
              "        0., 0., 1., 1., 0., 1., 1., 0., 1., 1., 0., 0., 1., 0., 0., 1., 1., 0.,\n",
              "        0., 1., 1., 0., 1., 1., 1., 1., 1., 0., 0., 1., 1., 1., 0., 0., 0., 1.,\n",
              "        1., 1., 1., 0., 1., 0., 0., 0., 1., 0., 1., 0., 1., 0., 1., 0., 0., 1.,\n",
              "        0., 0., 1., 0., 0., 1., 0., 1., 1., 1., 0., 1., 1., 0., 1., 1., 1., 0.,\n",
              "        1., 1., 0., 1., 0., 0., 0., 0., 1., 0.])"
            ]
          },
          "metadata": {
            "tags": []
          },
          "execution_count": 11
        }
      ]
    },
    {
      "cell_type": "markdown",
      "metadata": {
        "id": "R0UjGy2YBiGv"
      },
      "source": [
        "Sabendo que a probabilidade de cada resposta em private_answers ser 1 é E(Yes)=(1-p)*0.25 + p*0.75=1/4 -p/4 +3p/4=1/4- p/2. E que p é a proporção de respostas certas e 1-p a proporção de respostas erradas. Precisamos encontrar o p para termos uma probabilidade mais correta."
      ]
    },
    {
      "cell_type": "code",
      "metadata": {
        "colab": {
          "base_uri": "https://localhost:8080/"
        },
        "id": "17kI5DaIC_Ti",
        "outputId": "040225da-c35d-49c9-df1d-e1be3f133fe6"
      },
      "source": [
        "private_answers.mean()"
      ],
      "execution_count": 18,
      "outputs": [
        {
          "output_type": "execute_result",
          "data": {
            "text/plain": [
              "tensor(0.5100)"
            ]
          },
          "metadata": {
            "tags": []
          },
          "execution_count": 18
        }
      ]
    },
    {
      "cell_type": "code",
      "metadata": {
        "colab": {
          "base_uri": "https://localhost:8080/"
        },
        "id": "-1thFW2KCtyx",
        "outputId": "fc6014d3-3a95-4557-8b9e-1db788730ec1"
      },
      "source": [
        "private_answers.mean() * 2 - 0.5"
      ],
      "execution_count": 16,
      "outputs": [
        {
          "output_type": "execute_result",
          "data": {
            "text/plain": [
              "tensor(0.5200)"
            ]
          },
          "metadata": {
            "tags": []
          },
          "execution_count": 16
        }
      ]
    },
    {
      "cell_type": "code",
      "metadata": {
        "colab": {
          "base_uri": "https://localhost:8080/"
        },
        "id": "q-HfRK91C30K",
        "outputId": "a6ab5e09-9ac0-4880-955e-d179ad658a9b"
      },
      "source": [
        "answers.float().mean()"
      ],
      "execution_count": 17,
      "outputs": [
        {
          "output_type": "execute_result",
          "data": {
            "text/plain": [
              "tensor(0.5200)"
            ]
          },
          "metadata": {
            "tags": []
          },
          "execution_count": 17
        }
      ]
    },
    {
      "cell_type": "code",
      "metadata": {
        "id": "-gfGl7tjDWuY"
      },
      "source": [
        "def get_private_mean(real_answers):\n",
        "  first_coin_flip = (torch.rand(len(real_answers)) > 0.5).float()\n",
        "  second_coin_flip = (torch.rand(len(real_answers)) > 0.5).float()\n",
        "  private_answers = real_answers.float() * first_coin_flip + (1 - first_coin_flip) * second_coin_flip\n",
        "  return private_answers.mean() * 2 - 0.5"
      ],
      "execution_count": 20,
      "outputs": []
    },
    {
      "cell_type": "code",
      "metadata": {
        "colab": {
          "base_uri": "https://localhost:8080/"
        },
        "id": "AHKDd8gzDlEV",
        "outputId": "006c7d49-25b7-48f4-9004-aa348b9e6caf"
      },
      "source": [
        "new_answers = torch.randint(0, 2, (100000, ))\n",
        "print(\"mean without noise: \" + str(new_answers.float().mean()))\n",
        "print(\"mean with noise: \" + str(get_private_mean(new_answers)))"
      ],
      "execution_count": 31,
      "outputs": [
        {
          "output_type": "stream",
          "text": [
            "mean without noise: tensor(0.4995)\n",
            "mean with noise: tensor(0.5001)\n"
          ],
          "name": "stdout"
        }
      ]
    },
    {
      "cell_type": "markdown",
      "metadata": {
        "id": "uAXk_PSnGfyi"
      },
      "source": [
        "Definindo o ruído, para ser a probabilidade de cair coroa (resultado falso) nos permite definir se queremos mais resultados reais ou mais resultados aleatórios.\n",
        "\n",
        "Para isso também precisamos mudar a forma de encontrarmos a probabilidade da resposta ser verdadeira. E(Yes)=(noise)*0.5*(1-p) + (1-noise +noise*0.5)*p."
      ]
    },
    {
      "cell_type": "code",
      "metadata": {
        "id": "L9pWDq7tE1LJ"
      },
      "source": [
        "def get_private_mean_with_noise(real_answers, noise):\n",
        "  first_coin_flip = (torch.rand(len(real_answers)) > noise).float()\n",
        "  second_coin_flip = (torch.rand(len(real_answers)) > 0.5).float()\n",
        "  private_answers = real_answers.float() * first_coin_flip + (1 - first_coin_flip) * second_coin_flip\n",
        "  return (private_answers.mean()/noise - 0.5) * noise/(1 - noise)"
      ],
      "execution_count": 32,
      "outputs": []
    },
    {
      "cell_type": "code",
      "metadata": {
        "colab": {
          "base_uri": "https://localhost:8080/"
        },
        "id": "e0pElWF4GDta",
        "outputId": "72467313-104b-4723-a168-d46c23239439"
      },
      "source": [
        "new_answers_for_noise = torch.randint(0, 2, (100000, ))\n",
        "noise = 0.0000000000000001\n",
        "\n",
        "print(\"mean without noise: \" + str(new_answers_for_noise.float().mean()))\n",
        "print(\"mean with noise: \" + str(get_private_mean_with_noise(new_answers_for_noise, noise)))"
      ],
      "execution_count": 44,
      "outputs": [
        {
          "output_type": "stream",
          "text": [
            "mean without noise: tensor(0.4986)\n",
            "mean with noise: tensor(0.4986)\n"
          ],
          "name": "stdout"
        }
      ]
    }
  ]
}